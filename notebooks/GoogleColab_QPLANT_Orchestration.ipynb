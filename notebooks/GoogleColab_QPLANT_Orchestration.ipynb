{
 "cells": [
  {
   "cell_type": "markdown",
   "metadata": {},
   "source": ["# QPLANT Orchestration – Colab Runner\nMount Drive, edit config.json paths, then run the builder."]
  },
  {
   "cell_type": "code",
   "execution_count": null,
   "metadata": {},
   "outputs": [],
   "source": [
    "from google.colab import drive\n",
    "drive.mount('/content/drive')\n",
    "print('Drive mounted. Place scripts & data under /content/drive/MyDrive/QPLANT')"
   ]
  },
  {
   "cell_type": "code",
   "execution_count": null,
   "metadata": {},
   "outputs": [],
   "source": [
    "# !pip install pandas\n",
    "import json, subprocess, os\n",
    "os.chdir('/content/drive/MyDrive/QPLANT')\n",
    "print('CWD:', os.getcwd())\n",
    "!python recursive_builder.py"
   ]
  }
 ],
 "metadata": {
  "kernelspec": {"display_name": "Python 3", "language": "python", "name": "python3"},
  "language_info": {"name": "python"}
 },
 "nbformat": 4,
 "nbformat_minor": 5
}
